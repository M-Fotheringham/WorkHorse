{
 "cells": [
  {
   "cell_type": "code",
   "execution_count": 5,
   "metadata": {},
   "outputs": [],
   "source": [
    "import tkinter as tk\n",
    "from tkinter import simpledialog\n",
    "from tkinter import filedialog\n",
    "import os"
   ]
  },
  {
   "cell_type": "code",
   "execution_count": 6,
   "metadata": {},
   "outputs": [
    {
     "data": {
      "text/plain": [
       "''"
      ]
     },
     "execution_count": 6,
     "metadata": {},
     "output_type": "execute_result"
    }
   ],
   "source": [
    "root = tk.Tk()\n",
    "root.withdraw()"
   ]
  },
  {
   "cell_type": "code",
   "execution_count": 7,
   "metadata": {},
   "outputs": [
    {
     "name": "stdout",
     "output_type": "stream",
     "text": [
      "Well... Ahoy, indeed.\n"
     ]
    }
   ],
   "source": [
    "user_input = simpledialog.askstring(title=\"Input\", prompt=\"What?\")\n",
    "\n",
    "\n",
    "if user_input:\n",
    "    print(f\"Well... {user_input}, indeed.\")\n",
    "else:\n",
    "    print(\"Say something.\")"
   ]
  },
  {
   "cell_type": "code",
   "execution_count": 8,
   "metadata": {},
   "outputs": [
    {
     "name": "stdout",
     "output_type": "stream",
     "text": [
      "Well... C:/Users/Michael/OneDrive - Queen's University/Documents/Projects, indeed.\n"
     ]
    }
   ],
   "source": [
    "d = filedialog.askdirectory(title=\"Select a directory\", initialdir=os.getcwd())\n",
    "\n",
    "\n",
    "if d:\n",
    "    print(f\"Well... {d}, indeed.\")\n",
    "else:\n",
    "    print(\"Pick something.\")"
   ]
  }
 ],
 "metadata": {
  "kernelspec": {
   "display_name": "Python 3",
   "language": "python",
   "name": "python3"
  },
  "language_info": {
   "codemirror_mode": {
    "name": "ipython",
    "version": 3
   },
   "file_extension": ".py",
   "mimetype": "text/x-python",
   "name": "python",
   "nbconvert_exporter": "python",
   "pygments_lexer": "ipython3",
   "version": "3.11.9"
  }
 },
 "nbformat": 4,
 "nbformat_minor": 2
}
