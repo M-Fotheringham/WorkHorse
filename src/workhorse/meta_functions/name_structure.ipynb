{
 "cells": [
  {
   "cell_type": "code",
   "execution_count": 1,
   "metadata": {},
   "outputs": [],
   "source": [
    "import customtkinter as ctk"
   ]
  },
  {
   "cell_type": "code",
   "execution_count": null,
   "metadata": {},
   "outputs": [],
   "source": [
    "ctk.set_appearance_mode(\"System\")\n",
    "ctk.set_default_color_theme(\"green\")\n",
    "\n",
    "root = ctk.CTk()\n",
    "root.geometry(\"500x350\")"
   ]
  },
  {
   "cell_type": "code",
   "execution_count": null,
   "metadata": {},
   "outputs": [],
   "source": [
    "def test():\n",
    "    print(\"Test Successful. Closing.\")\n",
    "    root.destroy() # root.quit()"
   ]
  },
  {
   "cell_type": "code",
   "execution_count": null,
   "metadata": {},
   "outputs": [],
   "source": [
    "frame = ctk.CTkFrame(master=root)\n",
    "frame.pack(pady=20, padx=60, fill=\"both\", expand=True)\n",
    "\n",
    "label = ctk.CTkLabel(master=frame, text=\"Test System\", font=(\"Arial\", 24))\n",
    "label.pack(pady=12, padx=10)"
   ]
  },
  {
   "cell_type": "code",
   "execution_count": null,
   "metadata": {},
   "outputs": [],
   "source": [
    "entry1 = ctk.CTkEntry(master=frame, placeholder_text=\"Number of slides\")\n",
    "entry1.pack(pady=12, padx=10)\n",
    "\n",
    "entry2 = ctk.CTkEntry(master=frame, placeholder_text=\"Password\", show=\"$\")\n",
    "entry2.pack(pady=12, padx=10)\n",
    "\n",
    "button = ctk.CTkButton(master=frame, text=\"Submit\", command=test)\n",
    "button.pack(pady=12, padx=10)\n",
    "\n",
    "checkbox = ctk.CTkCheckBox(master=frame, text=\"Remember Me\")\n",
    "checkbox.pack(pady=12, padx=10)"
   ]
  },
  {
   "cell_type": "code",
   "execution_count": null,
   "metadata": {},
   "outputs": [],
   "source": [
    "root.mainloop()"
   ]
  }
 ],
 "metadata": {
  "kernelspec": {
   "display_name": "Python 3",
   "language": "python",
   "name": "python3"
  },
  "language_info": {
   "codemirror_mode": {
    "name": "ipython",
    "version": 3
   },
   "file_extension": ".py",
   "mimetype": "text/x-python",
   "name": "python",
   "nbconvert_exporter": "python",
   "pygments_lexer": "ipython3",
   "version": "3.11.9"
  }
 },
 "nbformat": 4,
 "nbformat_minor": 2
}
